{
  "cells": [
    {
      "cell_type": "code",
      "execution_count": 1,
      "metadata": {},
      "outputs": [
        {
          "name": "stdout",
          "output_type": "stream",
          "text": [
            "              total        used        free      shared  buff/cache   available\r\n",
            "Mem:         120867        3268       48995          15       68603      116002\r\n",
            "Swap:             0           0           0\r\n"
          ]
        }
      ],
      "source": [
        "! free -m"
      ]
    },
    {
      "cell_type": "code",
      "execution_count": 2,
      "metadata": {},
      "outputs": [
        {
          "name": "stdout",
          "output_type": "stream",
          "text": [
            "cat: /proc/driver/nvidia/gpus/0/information: No such file or directory\r\n"
          ]
        }
      ],
      "source": [
        "! cat /proc/driver/nvidia/gpus/0/information\n"
      ]
    },
    {
      "cell_type": "code",
      "execution_count": 3,
      "metadata": {},
      "outputs": [
        {
          "name": "stderr",
          "output_type": "stream",
          "text": [
            "/opt/conda/lib/python3.6/site-packages/h5py/__init__.py:36: FutureWarning: Conversion of the second argument of issubdtype from `float` to `np.floating` is deprecated. In future, it will be treated as `np.float64 == np.dtype(float).type`.\n",
            "  from ._conv import register_converters as _register_converters\n"
          ]
        }
      ],
      "source": [
        "from tensorflow.python.client import device_lib\n",
        "\n",
        "def get_available_gpus():\n",
        "    local_device_protos = device_lib.list_local_devices()\n",
        "    return [x.name for x in local_device_protos if x.device_type == 'GPU']"
      ]
    },
    {
      "cell_type": "code",
      "execution_count": 4,
      "metadata": {},
      "outputs": [
        {
          "data": {
            "text/plain": [
              "[name: \"/device:CPU:0\"\n",
              " device_type: \"CPU\"\n",
              " memory_limit: 268435456\n",
              " locality {\n",
              " }\n",
              " incarnation: 17567077870887359767, name: \"/device:XLA_CPU:0\"\n",
              " device_type: \"XLA_CPU\"\n",
              " memory_limit: 17179869184\n",
              " locality {\n",
              " }\n",
              " incarnation: 12000812496945185938\n",
              " physical_device_desc: \"device: XLA_CPU device\"]"
            ]
          },
          "execution_count": 4,
          "metadata": {},
          "output_type": "execute_result"
        }
      ],
      "source": [
        "from tensorflow.python.client import device_lib\n",
        "\n",
        "device_lib.list_local_devices()"
      ]
    },
    {
      "cell_type": "code",
      "execution_count": 5,
      "metadata": {},
      "outputs": [],
      "source": [
        "import tensorflow as tf"
      ]
    },
    {
      "cell_type": "code",
      "execution_count": 6,
      "metadata": {},
      "outputs": [
        {
          "data": {
            "text/plain": [
              "False"
            ]
          },
          "execution_count": 6,
          "metadata": {},
          "output_type": "execute_result"
        }
      ],
      "source": [
        "tf.test.is_gpu_available()\n"
      ]
    },
    {
      "cell_type": "code",
      "execution_count": 7,
      "metadata": {},
      "outputs": [
        {
          "data": {
            "text/plain": [
              "''"
            ]
          },
          "execution_count": 7,
          "metadata": {},
          "output_type": "execute_result"
        }
      ],
      "source": [
        "tf.test.gpu_device_name()\n"
      ]
    },
    {
      "cell_type": "code",
      "execution_count": 8,
      "metadata": {},
      "outputs": [
        {
          "name": "stdout",
          "output_type": "stream",
          "text": [
            "Tue Jun 11 17:01:20 2019       \r\n",
            "+-----------------------------------------------------------------------------+\r\n",
            "| NVIDIA-SMI 384.111                Driver Version: 384.111                   |\r\n",
            "|-------------------------------+----------------------+----------------------+\r\n",
            "| GPU  Name        Persistence-M| Bus-Id        Disp.A | Volatile Uncorr. ECC |\r\n",
            "| Fan  Temp  Perf  Pwr:Usage/Cap|         Memory-Usage | GPU-Util  Compute M. |\r\n",
            "|===============================+======================+======================|\r\n",
            "|   0  Tesla P4            Off  | 00000000:00:07.0 Off |                    0 |\r\n",
            "| N/A   31C    P8     6W /  75W |      0MiB /  7606MiB |      0%      Default |\r\n",
            "+-------------------------------+----------------------+----------------------+\r\n",
            "                                                                               \r\n",
            "+-----------------------------------------------------------------------------+\r\n",
            "| Processes:                                                       GPU Memory |\r\n",
            "|  GPU       PID   Type   Process name                             Usage      |\r\n",
            "|=============================================================================|\r\n",
            "|  No running processes found                                                 |\r\n",
            "+-----------------------------------------------------------------------------+\r\n"
          ]
        }
      ],
      "source": [
        "! nvidia-smi"
      ]
    },
    {
      "cell_type": "code",
      "execution_count": 9,
      "metadata": {},
      "outputs": [
        {
          "name": "stdout",
          "output_type": "stream",
          "text": [
            "Collecting package metadata: done\n",
            "Solving environment: done\n",
            "\n",
            "\n",
            "==> WARNING: A newer version of conda exists. <==\n",
            "  current version: 4.6.8\n",
            "  latest version: 4.6.14\n",
            "\n",
            "Please update conda by running\n",
            "\n",
            "    $ conda update -n base conda\n",
            "\n",
            "\n",
            "\n",
            "## Package Plan ##\n",
            "\n",
            "  environment location: /opt/conda\n",
            "\n",
            "  added / updated specs:\n",
            "    - tensorflow-gpu\n",
            "\n",
            "\n",
            "The following packages will be downloaded:\n",
            "\n",
            "    package                    |            build\n",
            "    ---------------------------|-----------------\n",
            "    _tflow_select-2.1.0        |              gpu           2 KB  anaconda\n",
            "    absl-py-0.7.1              |           py36_0         157 KB  anaconda\n",
            "    astor-0.7.1                |           py36_0          43 KB  anaconda\n",
            "    c-ares-1.15.0              |       h7b6447c_1          98 KB  anaconda\n",
            "    ca-certificates-2019.5.15  |                0         133 KB  anaconda\n",
            "    certifi-2019.3.9           |           py36_0         155 KB  anaconda\n",
            "    cupti-9.0.176              |                0         1.6 MB  anaconda\n",
            "    gast-0.2.2                 |           py36_0         138 KB  anaconda\n",
            "    grpcio-1.16.1              |   py36hf8bcb03_1         1.1 MB  anaconda\n",
            "    keras-applications-1.0.8   |             py_0          33 KB  anaconda\n",
            "    keras-preprocessing-1.1.0  |             py_1          36 KB  anaconda\n",
            "    markdown-3.1.1             |           py36_0         113 KB  anaconda\n",
            "    mock-3.0.5                 |           py36_0          47 KB  anaconda\n",
            "    openssl-1.1.1              |       h7b6447c_0         5.0 MB  anaconda\n",
            "    tensorboard-1.13.1         |   py36hf484d3e_0         3.3 MB  anaconda\n",
            "    tensorflow-1.13.1          |gpu_py36h26cf82e_0           4 KB  anaconda\n",
            "    tensorflow-base-1.13.1     |gpu_py36h8f37b9b_0       271.6 MB  anaconda\n",
            "    tensorflow-estimator-1.13.0|             py_0         205 KB  anaconda\n",
            "    tensorflow-gpu-1.13.1      |       h0d30ee6_0           2 KB  anaconda\n",
            "    termcolor-1.1.0            |           py36_1           7 KB  anaconda\n",
            "    werkzeug-0.15.4            |             py_0         262 KB  anaconda\n",
            "    ------------------------------------------------------------\n",
            "                                           Total:       284.0 MB\n",
            "\n",
            "The following NEW packages will be INSTALLED:\n",
            "\n",
            "  _tflow_select      anaconda/linux-64::_tflow_select-2.1.0-gpu\n",
            "  absl-py            anaconda/linux-64::absl-py-0.7.1-py36_0\n",
            "  astor              anaconda/linux-64::astor-0.7.1-py36_0\n",
            "  c-ares             anaconda/linux-64::c-ares-1.15.0-h7b6447c_1\n",
            "  cupti              anaconda/linux-64::cupti-9.0.176-0\n",
            "  gast               anaconda/linux-64::gast-0.2.2-py36_0\n",
            "  grpcio             anaconda/linux-64::grpcio-1.16.1-py36hf8bcb03_1\n",
            "  keras-applications anaconda/noarch::keras-applications-1.0.8-py_0\n",
            "  keras-preprocessi~ anaconda/noarch::keras-preprocessing-1.1.0-py_1\n",
            "  markdown           anaconda/linux-64::markdown-3.1.1-py36_0\n",
            "  mock               anaconda/linux-64::mock-3.0.5-py36_0\n",
            "  tensorboard        anaconda/linux-64::tensorboard-1.13.1-py36hf484d3e_0\n",
            "  tensorflow         anaconda/linux-64::tensorflow-1.13.1-gpu_py36h26cf82e_0\n",
            "  tensorflow-base    anaconda/linux-64::tensorflow-base-1.13.1-gpu_py36h8f37b9b_0\n",
            "  tensorflow-estima~ anaconda/noarch::tensorflow-estimator-1.13.0-py_0\n",
            "  tensorflow-gpu     anaconda/linux-64::tensorflow-gpu-1.13.1-h0d30ee6_0\n",
            "  termcolor          anaconda/linux-64::termcolor-1.1.0-py36_1\n",
            "  werkzeug           anaconda/noarch::werkzeug-0.15.4-py_0\n",
            "\n",
            "The following packages will be UPDATED:\n",
            "\n",
            "  ca-certificates    conda-forge::ca-certificates-2019.3.9~ --> anaconda::ca-certificates-2019.5.15-0\n",
            "  openssl            conda-forge::openssl-1.1.1b-h14c3975_1 --> anaconda::openssl-1.1.1-h7b6447c_0\n",
            "\n",
            "The following packages will be SUPERSEDED by a higher-priority channel:\n",
            "\n",
            "  certifi                                       conda-forge --> anaconda\n",
            "\n",
            "\n",
            "Proceed ([y]/n)? \n",
            "Downloading and Extracting Packages\n",
            "mock-3.0.5           | 47 KB     | ############################################################## | 100%\n",
            "ca-certificates-2019 | 133 KB    | ############################################################## | 100%\n",
            "_tflow_select-2.1.0  | 2 KB      | ############################################################## | 100%\n",
            "cupti-9.0.176        | 1.6 MB    | ############################################################## | 100%\n",
            "markdown-3.1.1       | 113 KB    | ############################################################## | 100%\n",
            "tensorflow-gpu-1.13. | 2 KB      | ############################################################## | 100%\n",
            "c-ares-1.15.0        | 98 KB     | ############################################################## | 100%\n",
            "tensorflow-base-1.13 | 271.6 MB  | ############################################################## | 100%\n",
            "tensorboard-1.13.1   | 3.3 MB    | ############################################################## | 100%\n",
            "gast-0.2.2           | 138 KB    | ############################################################## | 100%\n",
            "grpcio-1.16.1        | 1.1 MB    | ############################################################## | 100%\n",
            "tensorflow-estimator | 205 KB    | ############################################################## | 100%\n",
            "astor-0.7.1          | 43 KB     | ############################################################## | 100%\n",
            "tensorflow-1.13.1    | 4 KB      | ############################################################## | 100%\n",
            "certifi-2019.3.9     | 155 KB    | ############################################################## | 100%\n",
            "absl-py-0.7.1        | 157 KB    | ############################################################## | 100%\n",
            "termcolor-1.1.0      | 7 KB      | ############################################################## | 100%\n",
            "werkzeug-0.15.4      | 262 KB    | ############################################################## | 100%\n",
            "openssl-1.1.1        | 5.0 MB    | ############################################################## | 100%\n",
            "keras-preprocessing- | 36 KB     | ############################################################## | 100%\n",
            "keras-applications-1 | 33 KB     | ############################################################## | 100%\n",
            "Preparing transaction: done\n",
            "Verifying transaction: done\n",
            "Executing transaction: done\n"
          ]
        }
      ],
      "source": [
        "! conda install -c anaconda tensorflow-gpu\n"
      ]
    },
    {
      "cell_type": "code",
      "execution_count": 10,
      "metadata": {},
      "outputs": [
        {
          "name": "stdout",
          "output_type": "stream",
          "text": [
            "Tue Jun 11 17:01:20 2019       \r\n",
            "+-----------------------------------------------------------------------------+\r\n",
            "| NVIDIA-SMI 384.111                Driver Version: 384.111                   |\r\n",
            "|-------------------------------+----------------------+----------------------+\r\n",
            "| GPU  Name        Persistence-M| Bus-Id        Disp.A | Volatile Uncorr. ECC |\r\n",
            "| Fan  Temp  Perf  Pwr:Usage/Cap|         Memory-Usage | GPU-Util  Compute M. |\r\n",
            "|===============================+======================+======================|\r\n",
            "|   0  Tesla P4            Off  | 00000000:00:07.0 Off |                    0 |\r\n",
            "| N/A   31C    P8     6W /  75W |      0MiB /  7606MiB |      0%      Default |\r\n",
            "+-------------------------------+----------------------+----------------------+\r\n",
            "                                                                               \r\n",
            "+-----------------------------------------------------------------------------+\r\n",
            "| Processes:                                                       GPU Memory |\r\n",
            "|  GPU       PID   Type   Process name                             Usage      |\r\n",
            "|=============================================================================|\r\n",
            "|  No running processes found                                                 |\r\n",
            "+-----------------------------------------------------------------------------+\r\n"
          ]
        }
      ],
      "source": [
        "! nvidia-smi"
      ]
    }
  ],
  "metadata": {
    "kernelspec": {
      "display_name": "Python 3",
      "language": "python",
      "name": "python3"
    },
    "language_info": {
      "codemirror_mode": {
        "name": "ipython",
        "version": 3
      },
      "file_extension": ".py",
      "mimetype": "text/x-python",
      "name": "python",
      "nbconvert_exporter": "python",
      "pygments_lexer": "ipython3",
      "version": "3.6.7"
    }
  },
  "nbformat": 4,
  "nbformat_minor": 2
}
