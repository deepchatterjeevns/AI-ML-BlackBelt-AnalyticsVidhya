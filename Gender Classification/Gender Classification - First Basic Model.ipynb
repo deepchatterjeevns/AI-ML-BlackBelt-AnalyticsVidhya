{
 "cells": [
  {
   "cell_type": "code",
   "execution_count": 2,
   "metadata": {},
   "outputs": [
    {
     "name": "stderr",
     "output_type": "stream",
     "text": [
      "Using TensorFlow backend.\n"
     ]
    }
   ],
   "source": [
    "# Import the packages \n",
    "import pandas as pd\n",
    "import numpy as np\n",
    "import matplotlib.pyplot as plt\n",
    "\n",
    "%matplotlib inline\n",
    "\n",
    "from glob import glob \n",
    "\n",
    "from keras.layers import Dense\n",
    "from keras.models import Sequential\n",
    "from keras.preprocessing import image\n",
    "\n",
    "from sklearn.model_selection import train_test_split"
   ]
  },
  {
   "cell_type": "code",
   "execution_count": 3,
   "metadata": {},
   "outputs": [],
   "source": [
    "# Set the seed and create random number generator object\n",
    "seed = 42\n",
    "rng = np.random.RandomState(seed)"
   ]
  },
  {
   "cell_type": "markdown",
   "metadata": {},
   "source": [
    "### Explore the data"
   ]
  },
  {
   "cell_type": "code",
   "execution_count": 4,
   "metadata": {},
   "outputs": [],
   "source": [
    "# Set the image path\n",
    "path=\"./../../CV101/datasets/male_vs_female_classification/\"\n",
    "imagePath = path+\"images/\"\n",
    "#imageName = \"1.jpg\";\n",
    "#myimage = imagePath + imageName"
   ]
  },
  {
   "cell_type": "raw",
   "metadata": {},
   "source": [
    "!ls ./../../CV101/datasets/male_vs_female_classification/images/1.*\n",
    "!ls ./../../CV101/datasets/male_vs_female_classification/"
   ]
  },
  {
   "cell_type": "raw",
   "metadata": {},
   "source": [
    "img = plt.imread(myimage)"
   ]
  },
  {
   "cell_type": "markdown",
   "metadata": {},
   "source": [
    "### Load all the images in 'glob' object and fetch an image randomly"
   ]
  },
  {
   "cell_type": "raw",
   "metadata": {},
   "source": [
    "#path = \"./../../CV101/datasets/emergency_classification/images/\"\n",
    "images = glob(imagePath+\"*.jpg\")\n",
    "img_name = rng.choice(images)\n",
    "img = plt.imread(img_name)\n",
    "plt.imshow(img)\n",
    "print(img_name)\n",
    "print(img.shape)"
   ]
  },
  {
   "cell_type": "markdown",
   "metadata": {},
   "source": [
    "### Load the Train and Test dataframe "
   ]
  },
  {
   "cell_type": "code",
   "execution_count": 5,
   "metadata": {},
   "outputs": [],
   "source": [
    "train = pd.read_csv(path+\"train.csv\")"
   ]
  },
  {
   "cell_type": "code",
   "execution_count": 6,
   "metadata": {},
   "outputs": [
    {
     "data": {
      "text/html": [
       "<div>\n",
       "<style scoped>\n",
       "    .dataframe tbody tr th:only-of-type {\n",
       "        vertical-align: middle;\n",
       "    }\n",
       "\n",
       "    .dataframe tbody tr th {\n",
       "        vertical-align: top;\n",
       "    }\n",
       "\n",
       "    .dataframe thead th {\n",
       "        text-align: right;\n",
       "    }\n",
       "</style>\n",
       "<table border=\"1\" class=\"dataframe\">\n",
       "  <thead>\n",
       "    <tr style=\"text-align: right;\">\n",
       "      <th></th>\n",
       "      <th>image_names</th>\n",
       "      <th>class</th>\n",
       "    </tr>\n",
       "  </thead>\n",
       "  <tbody>\n",
       "    <tr>\n",
       "      <th>0</th>\n",
       "      <td>11413.jpg</td>\n",
       "      <td>1</td>\n",
       "    </tr>\n",
       "    <tr>\n",
       "      <th>1</th>\n",
       "      <td>9863.jpg</td>\n",
       "      <td>1</td>\n",
       "    </tr>\n",
       "    <tr>\n",
       "      <th>2</th>\n",
       "      <td>997.jpg</td>\n",
       "      <td>0</td>\n",
       "    </tr>\n",
       "    <tr>\n",
       "      <th>3</th>\n",
       "      <td>5950.jpg</td>\n",
       "      <td>0</td>\n",
       "    </tr>\n",
       "    <tr>\n",
       "      <th>4</th>\n",
       "      <td>10454.jpg</td>\n",
       "      <td>1</td>\n",
       "    </tr>\n",
       "  </tbody>\n",
       "</table>\n",
       "</div>"
      ],
      "text/plain": [
       "  image_names  class\n",
       "0   11413.jpg      1\n",
       "1    9863.jpg      1\n",
       "2     997.jpg      0\n",
       "3    5950.jpg      0\n",
       "4   10454.jpg      1"
      ]
     },
     "execution_count": 6,
     "metadata": {},
     "output_type": "execute_result"
    }
   ],
   "source": [
    "train.head()"
   ]
  },
  {
   "cell_type": "code",
   "execution_count": 7,
   "metadata": {},
   "outputs": [],
   "source": [
    "#train['class'].value_counts()\n",
    "y = train['class'].values"
   ]
  },
  {
   "cell_type": "code",
   "execution_count": 8,
   "metadata": {},
   "outputs": [],
   "source": [
    "X = []\n",
    "for img_name in train['image_names']:\n",
    "    img = plt.imread(imagePath + img_name)\n",
    "    X.append(img)"
   ]
  },
  {
   "cell_type": "code",
   "execution_count": 9,
   "metadata": {},
   "outputs": [
    {
     "data": {
      "text/plain": [
       "(12196, 224, 224, 3)"
      ]
     },
     "execution_count": 9,
     "metadata": {},
     "output_type": "execute_result"
    }
   ],
   "source": [
    "X = np.array(X)\n",
    "X.shape"
   ]
  },
  {
   "cell_type": "code",
   "execution_count": 10,
   "metadata": {},
   "outputs": [
    {
     "data": {
      "text/plain": [
       "array([50, 48, 53], dtype=uint8)"
      ]
     },
     "execution_count": 10,
     "metadata": {},
     "output_type": "execute_result"
    }
   ],
   "source": [
    "X[1:5][2][1][2]"
   ]
  },
  {
   "cell_type": "code",
   "execution_count": 11,
   "metadata": {},
   "outputs": [
    {
     "data": {
      "text/plain": [
       "(12196, 150528)"
      ]
     },
     "execution_count": 11,
     "metadata": {},
     "output_type": "execute_result"
    }
   ],
   "source": [
    "X = X.reshape(12196, 224 * 224 * 3)\n",
    "X.shape"
   ]
  },
  {
   "cell_type": "code",
   "execution_count": 12,
   "metadata": {},
   "outputs": [
    {
     "data": {
      "text/plain": [
       "(12196, 150528)"
      ]
     },
     "execution_count": 12,
     "metadata": {},
     "output_type": "execute_result"
    }
   ],
   "source": [
    "X.shape"
   ]
  },
  {
   "cell_type": "raw",
   "metadata": {},
   "source": [
    "X = X/255"
   ]
  },
  {
   "cell_type": "markdown",
   "metadata": {},
   "source": [
    "### Split the data"
   ]
  },
  {
   "cell_type": "code",
   "execution_count": null,
   "metadata": {},
   "outputs": [],
   "source": []
  },
  {
   "cell_type": "code",
   "execution_count": 13,
   "metadata": {},
   "outputs": [],
   "source": [
    "X_train ,X_test, y_train , y_test = train_test_split( X, y,test_size=0.3, random_state=seed)"
   ]
  },
  {
   "cell_type": "markdown",
   "metadata": {},
   "source": [
    "### Create the Model"
   ]
  },
  {
   "cell_type": "code",
   "execution_count": 14,
   "metadata": {},
   "outputs": [],
   "source": [
    "model = Sequential()"
   ]
  },
  {
   "cell_type": "code",
   "execution_count": 15,
   "metadata": {},
   "outputs": [],
   "source": [
    "model.add(Dense(100, input_dim = 224 * 224 * 3, activation='sigmoid'))\n",
    "model.add(Dense(units = 1, activation='sigmoid'))"
   ]
  },
  {
   "cell_type": "code",
   "execution_count": 16,
   "metadata": {},
   "outputs": [],
   "source": [
    "model.compile(loss='binary_crossentropy',optimizer='sgd', metrics=['accuracy'])"
   ]
  },
  {
   "cell_type": "code",
   "execution_count": 17,
   "metadata": {},
   "outputs": [
    {
     "name": "stdout",
     "output_type": "stream",
     "text": [
      "_________________________________________________________________\n",
      "Layer (type)                 Output Shape              Param #   \n",
      "=================================================================\n",
      "dense_1 (Dense)              (None, 100)               15052900  \n",
      "_________________________________________________________________\n",
      "dense_2 (Dense)              (None, 1)                 101       \n",
      "=================================================================\n",
      "Total params: 15,053,001\n",
      "Trainable params: 15,053,001\n",
      "Non-trainable params: 0\n",
      "_________________________________________________________________\n"
     ]
    }
   ],
   "source": [
    "model.summary()"
   ]
  },
  {
   "cell_type": "markdown",
   "metadata": {},
   "source": [
    "### Train the model"
   ]
  },
  {
   "cell_type": "code",
   "execution_count": 18,
   "metadata": {},
   "outputs": [
    {
     "name": "stdout",
     "output_type": "stream",
     "text": [
      "Train on 8537 samples, validate on 8537 samples\n",
      "Epoch 1/10\n",
      "8537/8537 [==============================] - 14s 2ms/step - loss: 0.6958 - acc: 0.4944 - val_loss: 0.6936 - val_acc: 0.5013\n",
      "Epoch 2/10\n",
      "8537/8537 [==============================] - 13s 2ms/step - loss: 0.6932 - acc: 0.5084 - val_loss: 0.6939 - val_acc: 0.5023\n",
      "Epoch 3/10\n",
      "8537/8537 [==============================] - 12s 1ms/step - loss: 0.6935 - acc: 0.5030 - val_loss: 0.6942 - val_acc: 0.5023\n",
      "Epoch 4/10\n",
      "8537/8537 [==============================] - 13s 1ms/step - loss: 0.6936 - acc: 0.4957 - val_loss: 0.6932 - val_acc: 0.4976\n",
      "Epoch 5/10\n",
      "8537/8537 [==============================] - 13s 1ms/step - loss: 0.6934 - acc: 0.4947 - val_loss: 0.6947 - val_acc: 0.4978\n",
      "Epoch 6/10\n",
      "8537/8537 [==============================] - 15s 2ms/step - loss: 0.6934 - acc: 0.4994 - val_loss: 0.6933 - val_acc: 0.5023\n",
      "Epoch 7/10\n",
      "8537/8537 [==============================] - 13s 2ms/step - loss: 0.6935 - acc: 0.4905 - val_loss: 0.6932 - val_acc: 0.5024\n",
      "Epoch 8/10\n",
      "8537/8537 [==============================] - 13s 2ms/step - loss: 0.6935 - acc: 0.4948 - val_loss: 0.6937 - val_acc: 0.4978\n",
      "Epoch 9/10\n",
      "8537/8537 [==============================] - 13s 2ms/step - loss: 0.6936 - acc: 0.4909 - val_loss: 0.6932 - val_acc: 0.5023\n",
      "Epoch 10/10\n",
      "8537/8537 [==============================] - 13s 1ms/step - loss: 0.6935 - acc: 0.4982 - val_loss: 0.6971 - val_acc: 0.5022\n"
     ]
    },
    {
     "data": {
      "text/plain": [
       "<keras.callbacks.History at 0x7fd641050278>"
      ]
     },
     "execution_count": 18,
     "metadata": {},
     "output_type": "execute_result"
    }
   ],
   "source": [
    "model.fit(X_train,y_train,epochs=10,batch_size=120,validation_data=(X_train,y_train))"
   ]
  },
  {
   "cell_type": "markdown",
   "metadata": {},
   "source": [
    "### View the results of the sample data"
   ]
  },
  {
   "cell_type": "code",
   "execution_count": 20,
   "metadata": {},
   "outputs": [],
   "source": [
    "data= train"
   ]
  },
  {
   "cell_type": "code",
   "execution_count": 22,
   "metadata": {},
   "outputs": [
    {
     "name": "stdout",
     "output_type": "stream",
     "text": [
      "54 % sure that it is female\n",
      "Whereas actual class is  0\n"
     ]
    },
    {
     "data": {
      "text/plain": [
       "<matplotlib.image.AxesImage at 0x7fd640fc32b0>"
      ]
     },
     "execution_count": 22,
     "metadata": {},
     "output_type": "execute_result"
    },
    {
     "data": {
      "image/png": "[encoded data removed]",
      "text/plain": [
       "<Figure size 432x288 with 1 Axes>"
      ]
     },
     "metadata": {
      "needs_background": "light"
     },
     "output_type": "display_data"
    }
   ],
   "source": [
    "# get predictions\n",
    "predictions = model.predict_classes(X_train)[:, 0]\n",
    "prediction_probabilities = model.predict(X_train)[:, 0]\n",
    "\n",
    "# pull out the original images from the data\n",
    "# which correspond to the validation data\n",
    "_, test_gender, _, test_y = train_test_split(data.image_names.values, y, test_size=0.3, random_state=seed)\n",
    "\n",
    "# get a random index to plot image randomly\n",
    "index = rng.choice(range(len(test_vehicles)))\n",
    "\n",
    "# get the corresponding image name and probability\n",
    "img_name = test_gender[index]\n",
    "prob = (prediction_probabilities * 100).astype(int)[index]\n",
    "\n",
    "# read the image\n",
    "img = plt.imread(imagePath + img_name)\n",
    "\n",
    "# print probability and actual class\n",
    "print(prob , '% sure that it is female')\n",
    "print('Whereas actual class is ', test_y[index])\n",
    "\n",
    "# plot image\n",
    "plt.imshow(img)"
   ]
  },
  {
   "cell_type": "markdown",
   "metadata": {},
   "source": [
    "## Train the mode by changing the hyper parameters"
   ]
  },
  {
   "cell_type": "markdown",
   "metadata": {},
   "source": [
    "#### Model 2"
   ]
  },
  {
   "cell_type": "code",
   "execution_count": 23,
   "metadata": {},
   "outputs": [
    {
     "name": "stdout",
     "output_type": "stream",
     "text": [
      "Train on 8537 samples, validate on 8537 samples\n",
      "Epoch 1/10\n",
      "8537/8537 [==============================] - 16s 2ms/step - loss: 0.6951 - acc: 0.5074 - val_loss: 0.7017 - val_acc: 0.4978\n",
      "Epoch 2/10\n",
      "8537/8537 [==============================] - 14s 2ms/step - loss: 0.6938 - acc: 0.5074 - val_loss: 0.6933 - val_acc: 0.5022\n",
      "Epoch 3/10\n",
      "8537/8537 [==============================] - 14s 2ms/step - loss: 0.6948 - acc: 0.5043 - val_loss: 0.6937 - val_acc: 0.5022\n",
      "Epoch 4/10\n",
      "8537/8537 [==============================] - 14s 2ms/step - loss: 0.6966 - acc: 0.4866 - val_loss: 0.6936 - val_acc: 0.5022\n",
      "Epoch 5/10\n",
      "8537/8537 [==============================] - 14s 2ms/step - loss: 0.6947 - acc: 0.5046 - val_loss: 0.6931 - val_acc: 0.5022\n",
      "Epoch 6/10\n",
      "8537/8537 [==============================] - 14s 2ms/step - loss: 0.6954 - acc: 0.5018 - val_loss: 0.7118 - val_acc: 0.4978\n",
      "Epoch 7/10\n",
      "8537/8537 [==============================] - 14s 2ms/step - loss: 0.6951 - acc: 0.5024 - val_loss: 0.7110 - val_acc: 0.5022\n",
      "Epoch 8/10\n",
      "8537/8537 [==============================] - 14s 2ms/step - loss: 0.6953 - acc: 0.5002 - val_loss: 0.7065 - val_acc: 0.4978\n",
      "Epoch 9/10\n",
      "8537/8537 [==============================] - 14s 2ms/step - loss: 0.6966 - acc: 0.5001 - val_loss: 0.7084 - val_acc: 0.4978\n",
      "Epoch 10/10\n",
      "8537/8537 [==============================] - 14s 2ms/step - loss: 0.6960 - acc: 0.4923 - val_loss: 0.7783 - val_acc: 0.5022\n"
     ]
    },
    {
     "data": {
      "text/plain": [
       "<keras.callbacks.History at 0x7fd640faa518>"
      ]
     },
     "execution_count": 23,
     "metadata": {},
     "output_type": "execute_result"
    }
   ],
   "source": [
    "model.add(Dense(100, input_dim = 224 * 224 * 3, activation='tanh'))\n",
    "model.add(Dense(1024, activation='sigmoid'))\n",
    "model.add(Dense(units = 1, activation='sigmoid'))\n",
    "model.compile(loss='binary_crossentropy',optimizer='sgd', metrics=['accuracy'])\n",
    "model.fit(X_train,y_train,epochs=10,batch_size=120,validation_data=(X_train,y_train))"
   ]
  },
  {
   "cell_type": "markdown",
   "metadata": {},
   "source": [
    "### Model 2"
   ]
  },
  {
   "cell_type": "code",
   "execution_count": 24,
   "metadata": {},
   "outputs": [
    {
     "name": "stdout",
     "output_type": "stream",
     "text": [
      "Train on 8537 samples, validate on 8537 samples\n",
      "Epoch 1/10\n",
      "8537/8537 [==============================] - 21s 3ms/step - loss: 0.6980 - acc: 0.5094 - val_loss: 0.6984 - val_acc: 0.5022\n",
      "Epoch 2/10\n",
      "8537/8537 [==============================] - 20s 2ms/step - loss: 0.6963 - acc: 0.4991 - val_loss: 0.6932 - val_acc: 0.4978\n",
      "Epoch 3/10\n",
      "8537/8537 [==============================] - 20s 2ms/step - loss: 0.6982 - acc: 0.4940 - val_loss: 0.7069 - val_acc: 0.5022\n",
      "Epoch 4/10\n",
      "8537/8537 [==============================] - 20s 2ms/step - loss: 0.6973 - acc: 0.4994 - val_loss: 0.6952 - val_acc: 0.5022\n",
      "Epoch 5/10\n",
      "8537/8537 [==============================] - 20s 2ms/step - loss: 0.7002 - acc: 0.5009 - val_loss: 0.6955 - val_acc: 0.5022\n",
      "Epoch 6/10\n",
      "8537/8537 [==============================] - 20s 2ms/step - loss: 0.6997 - acc: 0.4985 - val_loss: 0.7007 - val_acc: 0.4978\n",
      "Epoch 7/10\n",
      "8537/8537 [==============================] - 20s 2ms/step - loss: 0.6973 - acc: 0.4960 - val_loss: 0.7350 - val_acc: 0.4978\n",
      "Epoch 8/10\n",
      "8537/8537 [==============================] - 20s 2ms/step - loss: 0.7005 - acc: 0.5110 - val_loss: 0.6932 - val_acc: 0.4978\n",
      "Epoch 9/10\n",
      "8537/8537 [==============================] - 20s 2ms/step - loss: 0.6959 - acc: 0.5040 - val_loss: 0.6933 - val_acc: 0.5022\n",
      "Epoch 10/10\n",
      "8537/8537 [==============================] - 21s 2ms/step - loss: 0.6966 - acc: 0.5031 - val_loss: 0.6932 - val_acc: 0.5022\n"
     ]
    },
    {
     "data": {
      "text/plain": [
       "<keras.callbacks.History at 0x7fd5840e0160>"
      ]
     },
     "execution_count": 24,
     "metadata": {},
     "output_type": "execute_result"
    }
   ],
   "source": [
    "pmodel.add(Dense(100, input_dim = 224 * 224 * 3, activation='tanh'))\n",
    "model.add(Dense(1024, activation='sigmoid'))\n",
    "model.add(Dense(units = 1, activation='sigmoid'))\n",
    "model.compile(loss='binary_crossentropy',optimizer='adam', metrics=['accuracy'])\n",
    "model.fit(X_train,y_train,epochs=10,batch_size=120,validation_data=(X_train,y_train))"
   ]
  },
  {
   "cell_type": "code",
   "execution_count": null,
   "metadata": {},
   "outputs": [],
   "source": []
  },
  {
   "cell_type": "code",
   "execution_count": null,
   "metadata": {},
   "outputs": [],
   "source": []
  },
  {
   "cell_type": "code",
   "execution_count": null,
   "metadata": {},
   "outputs": [],
   "source": [
    "predictions = model.predict_classes(X_test)[:,0]"
   ]
  },
  {
   "cell_type": "code",
   "execution_count": null,
   "metadata": {},
   "outputs": [],
   "source": [
    "predictions==1\n",
    "prediction_probabilities"
   ]
  },
  {
   "cell_type": "code",
   "execution_count": 12,
   "metadata": {},
   "outputs": [
    {
     "name": "stdout",
     "output_type": "stream",
     "text": [
      "X\t X2\t imagePath\t img\t img_name\t np\t path\t pd\t plt\t \n",
      "\n"
     ]
    }
   ],
   "source": [
    "%who"
   ]
  },
  {
   "cell_type": "code",
   "execution_count": 43,
   "metadata": {},
   "outputs": [
    {
     "data": {
      "text/plain": [
       "dtype('float64')"
      ]
     },
     "execution_count": 43,
     "metadata": {},
     "output_type": "execute_result"
    }
   ],
   "source": [
    "X2=X[2:3]/255\n",
    "X2[:][:].dtype\n",
    "\n"
   ]
  },
  {
   "cell_type": "code",
   "execution_count": 45,
   "metadata": {},
   "outputs": [
    {
     "name": "stdout",
     "output_type": "stream",
     "text": [
      "112\n",
      "1204336\n"
     ]
    }
   ],
   "source": [
    "from sys import getsizeof\n",
    "print(getsizeof(X))\n",
    "print(getsizeof(X2))"
   ]
  }
 ],
 "metadata": {
  "kernelspec": {
   "display_name": "Python 3.6",
   "language": "python",
   "name": "python36"
  },
  "language_info": {
   "codemirror_mode": {
    "name": "ipython",
    "version": 3
   },
   "file_extension": ".py",
   "mimetype": "text/x-python",
   "name": "python",
   "nbconvert_exporter": "python",
   "pygments_lexer": "ipython3",
   "version": "3.6.7"
  }
 },
 "nbformat": 4,
 "nbformat_minor": 2
}
